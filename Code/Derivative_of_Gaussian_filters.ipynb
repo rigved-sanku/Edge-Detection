{
 "cells": [
  {
   "cell_type": "code",
   "execution_count": 1,
   "metadata": {},
   "outputs": [],
   "source": [
    "# Notebook for creating DoG filters\n",
    "\n",
    "# Approach\n",
    "\n",
    "# Define sobel\n",
    "# Define gaussian of suitable size\n",
    "# Convolve sobel in x direction with Gaussian\n",
    "# Rotate for 16 orientations between 0 and 360 degrees\n",
    "# Repeat process for a different sigma\n",
    "# Return filters\n",
    "# Visualize"
   ]
  },
  {
   "cell_type": "code",
   "execution_count": 2,
   "metadata": {},
   "outputs": [],
   "source": [
    "import numpy as np\n",
    "from typing import List\n",
    "from numpy import sqrt, pi, reshape, sin, cos\n",
    "import matplotlib.pyplot as plt\n",
    "import cv2"
   ]
  },
  {
   "cell_type": "code",
   "execution_count": 18,
   "metadata": {},
   "outputs": [],
   "source": [
    "sobel_x = [[1, 0, -1], [2, 0, -2], [1, 0, -1]] # Sobel filter in x direction\n",
    "sobel_y = [[1, 2, 1], [0, 0, 0], [-1, -2, -1]] # Sobel filter in y direction\n",
    "\n",
    "def get_2d_gaussian(grid, sigma, elongation=1):\n",
    "    \"\"\"\n",
    "    Returns a 2D Gaussian filter\n",
    "    \"\"\"\n",
    "    x = grid[0]\n",
    "    y = grid[1]\n",
    "    sigma_x = sigma\n",
    "    sigma_y = sigma_x * elongation\n",
    "    numerator = np.exp(-(x**2/(2*sigma_x**2) + y**2/(2*sigma_y**2)))\n",
    "    denominator = 2 * pi * sigma_x * sigma_y\n",
    "    return numerator / denominator\n",
    "\n",
    "sigma = 2\n",
    "size = 7\n",
    "bound = size // 2\n",
    "spread = np.linspace(-bound, bound, size)    \n",
    "x , y = np.meshgrid(spread, spread)\n",
    "points = [x.flatten(), y.flatten()]"
   ]
  },
  {
   "cell_type": "code",
   "execution_count": 28,
   "metadata": {},
   "outputs": [
    {
     "data": {
      "text/plain": [
       "<matplotlib.image.AxesImage at 0x7018f14bdfd0>"
      ]
     },
     "execution_count": 28,
     "metadata": {},
     "output_type": "execute_result"
    },
    {
     "data": {
      "image/png": "[encoded data removed]",
      "text/plain": [
       "<Figure size 640x480 with 1 Axes>"
      ]
     },
     "metadata": {},
     "output_type": "display_data"
    }
   ],
   "source": [
    "gaussian = get_2d_gaussian(points, sigma)\n",
    "gaussian = reshape(gaussian, (size, size))\n",
    "plt.subplot(1,1,1)\n",
    "plt.imshow(gaussian, cmap='gray')"
   ]
  },
  {
   "cell_type": "code",
   "execution_count": 33,
   "metadata": {},
   "outputs": [
    {
     "data": {
      "text/plain": [
       "<matplotlib.image.AxesImage at 0x7018d9f84e50>"
      ]
     },
     "execution_count": 33,
     "metadata": {},
     "output_type": "execute_result"
    },
    {
     "data": {
      "image/png": "[encoded data removed]",
      "text/plain": [
       "<Figure size 640x480 with 2 Axes>"
      ]
     },
     "metadata": {},
     "output_type": "display_data"
    }
   ],
   "source": [
    "Gx = cv2.filter2D(gaussian, ddepth=-1, kernel = np.array(sobel_x))\n",
    "Gy = cv2.filter2D(gaussian, ddepth=-1, kernel = np.array(sobel_y))\n",
    "plt.subplot(1,2,1)\n",
    "plt.axis('off')\n",
    "plt.imshow(Gx, cmap='gray')\n",
    "plt.subplot(1,2,2)\n",
    "plt.axis('off')\n",
    "plt.imshow(Gy, cmap='gray')"
   ]
  },
  {
   "cell_type": "code",
   "execution_count": 58,
   "metadata": {},
   "outputs": [],
   "source": [
    "# DOG Filter bank\n",
    "\n",
    "scale_sigma = [1 , sqrt(2)]\n",
    "size = 7\n",
    "angles = 16\n",
    "bounds = size // 2\n",
    "spread = np.linspace(-bounds, bounds, size)\n",
    "x, y = np.meshgrid(spread, spread)\n",
    "points = [x.flatten(), y.flatten()]\n",
    "\n",
    "DOG_filters = []\n",
    "\n",
    "for sigma in scale_sigma:\n",
    "    gaussian = get_2d_gaussian(points, sigma)\n",
    "    gaussian = reshape(gaussian, (size, size))\n",
    "    DOG = cv2.filter2D(gaussian, ddepth=-1, kernel = np.array(sobel_x))\n",
    "    for i in range(angles):\n",
    "        angle = i * 360 / angles\n",
    "        rot_matrix = cv2.getRotationMatrix2D((size//2, size//2), angle, 1)\n",
    "        DOG_rot = cv2.warpAffine(DOG, rot_matrix, (size, size))\n",
    "        DOG_filters.append(DOG_rot)\n"
   ]
  },
  {
   "cell_type": "code",
   "execution_count": 70,
   "metadata": {},
   "outputs": [
    {
     "data": {
      "image/png": "[encoded data removed]",
      "text/plain": [
       "<Figure size 2000x300 with 32 Axes>"
      ]
     },
     "metadata": {},
     "output_type": "display_data"
    }
   ],
   "source": [
    "plt.figure(figsize=(20, 3))\n",
    "for i in range(len(DOG_filters)):\n",
    "    plt.subplot(2, 16, i+1)\n",
    "    plt.axis('off')\n",
    "    plt.imshow(DOG_filters[i], cmap='gray')"
   ]
  },
  {
   "cell_type": "code",
   "execution_count": null,
   "metadata": {},
   "outputs": [],
   "source": []
  }
 ],
 "metadata": {
  "kernelspec": {
   "display_name": "comp_v",
   "language": "python",
   "name": "python3"
  },
  "language_info": {
   "codemirror_mode": {
    "name": "ipython",
    "version": 3
   },
   "file_extension": ".py",
   "mimetype": "text/x-python",
   "name": "python",
   "nbconvert_exporter": "python",
   "pygments_lexer": "ipython3",
   "version": "3.9.18"
  }
 },
 "nbformat": 4,
 "nbformat_minor": 2
}
